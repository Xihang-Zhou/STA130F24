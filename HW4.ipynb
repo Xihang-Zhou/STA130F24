{
 "cells": [
  {
   "metadata": {},
   "cell_type": "markdown",
   "source": [
    "1. I think that \"standard error of the mean\" of the oringinal data is the measure of disperseness of the value of the esimated mean calculated from dataset acquired from bootstapping. It tells us how disperse the set of estimated mean will be, which discribe scale of a function (normal distribution) with unit area under the curve where the x-axis is value of sample mean and shows variability of the bootstrapping sample mean.\n",
    "Whereas \"standard deviation\" of oringinal data is the measure of disperseness of the data value calculated from oringinal data. It tells us how disperse the original dataset is and esimates the disperness of the population.\n",
    "\n",
    "\n",
    "ChatGPT link: https://chatgpt.com/share/66fc85d1-7b0c-8002-a02d-9fa32ccdb16e\n",
    "\n",
    "\n",
    "Summary:\n",
    "Question: The difference between the standard error of the mean (SEM) and the standard deviation of the original data.\n",
    "\n",
    "Response:\n",
    "\n",
    "The standard deviation measures how much individual data points deviate from the sample mean, reflecting the spread or variability within the data.\n",
    "The standard error of the mean measures how much the sample mean is expected to vary from the population mean, reflecting the precision of the sample mean as an estimate of the true mean. It decreases as sample size increases.\n",
    "In summary:\n",
    "\n",
    "Standard deviation: Variability among data points.\n",
    "Standard error: Variability of the sample mean as an estimate of the population mean.\n",
    "\n",
    "2. region of [μ-2σ, μ+2σ] is about 95% of area of normal distribution, this is can be used. The μ here means the mean of sample mean \n",
    "\n",
    "\n",
    "3. calculate k and λ from P(μ<k)=2.5%, P(μ>λ)=2.5% based on x̄~N(μ,σ²), where N means Normal distribution and parameters in the bracket is calculated from bootstraping, the region [k, λ] is the 95% confidence interval for some case of hypothesis, while some cases are one side requires exactly one of P(μ<k)=5% and P(μ>k)=5%. This can be done by scipy as code below.\n"
   ],
   "id": "4524fc0803a31103"
  },
  {
   "metadata": {
    "ExecuteTime": {
     "end_time": "2024-10-02T22:02:10.859833Z",
     "start_time": "2024-10-02T22:02:10.854839Z"
    }
   },
   "cell_type": "code",
   "source": [
    "import scipy.stats as stats\n",
    "\n",
    "miu = 10\n",
    "sigma = 2\n",
    "\n",
    "\n",
    "k = stats.norm.ppf(0.025, loc=miu, scale=sigma)\n",
    "l = stats.norm.ppf(0.975, loc=miu, scale=sigma)\n",
    "\n",
    "k, l"
   ],
   "id": "be6dd5111bbbd019",
   "outputs": [
    {
     "data": {
      "text/plain": [
       "(6.080072030919891, 13.919927969080108)"
      ]
     },
     "execution_count": 26,
     "metadata": {},
     "output_type": "execute_result"
    }
   ],
   "execution_count": 26
  },
  {
   "metadata": {},
   "cell_type": "markdown",
   "source": [
    "3. There is an alternative way, the standardized normal distribution is Z ~ N(0,1), when z ≈ 1.960, P(Z <= z)=0.975\n",
    "so by (x̄-μ)/σ = Z, [μ-1.960σ, μ+1.960σ] is what we want."
   ],
   "id": "5b51dff0097101fa"
  },
  {
   "metadata": {
    "ExecuteTime": {
     "end_time": "2024-10-02T00:12:03.825466Z",
     "start_time": "2024-10-02T00:12:03.820646Z"
    }
   },
   "cell_type": "code",
   "source": "miu-1.960*sigma, miu+1.960*sigma",
   "id": "53fe3b95437cb1c1",
   "outputs": [
    {
     "data": {
      "text/plain": [
       "(6.08, 13.92)"
      ]
     },
     "execution_count": 2,
     "metadata": {},
     "output_type": "execute_result"
    }
   ],
   "execution_count": 2
  },
  {
   "metadata": {},
   "cell_type": "markdown",
   "source": [
    "4. ChatGPT link: https://chatgpt.com/share/66fc911e-bcc0-8002-a5de-1afd5d3e0077\n",
    "\n",
    "\n",
    "Summary: \n",
    "Bootstrap Confidence Interval Code:\n",
    "You requested a Python code to produce a 95% bootstrap confidence interval for a population mean based on a sample. The code was provided along with comments explaining its functionality.\n",
    "The code generates a random sample from a normal distribution and defines a function to compute bootstrap confidence intervals. It demonstrates how to compute the interval for both the population mean and median by changing the statistical function used.\n",
    "Additional examples were provided on how to modify the function to calculate confidence intervals for other statistics, such as standard deviation and variance.\n"
   ],
   "id": "d813996a49eb6ec4"
  },
  {
   "metadata": {
    "ExecuteTime": {
     "end_time": "2024-10-02T00:21:06.757931Z",
     "start_time": "2024-10-02T00:21:06.712278Z"
    }
   },
   "cell_type": "code",
   "source": [
    "import numpy as np\n",
    "\n",
    "# Sample data (randomly generated for demonstration)\n",
    "np.random.seed(42)  # for reproducibility\n",
    "sample = np.random.normal(loc=50, scale=10, size=100)  # mean=50, std=10, n=100\n",
    "\n",
    "# Function to compute a bootstrap confidence interval\n",
    "def bootstrap_ci(data, num_bootstrap_samples=1000, ci=95, stat_func=np.mean):\n",
    "    \"\"\"\n",
    "    Computes a bootstrap confidence interval for a given statistic.\n",
    "    \n",
    "    Parameters:\n",
    "    - data: The sample data.\n",
    "    - num_bootstrap_samples: Number of bootstrap resamples.\n",
    "    - ci: Confidence interval percentage (e.g., 95 for 95% CI).\n",
    "    - stat_func: The statistic function to compute (e.g., np.mean for mean, np.median for median).\n",
    "    \n",
    "    Returns:\n",
    "    - Lower and upper bounds of the confidence interval.\n",
    "    \"\"\"\n",
    "    # Generate bootstrap samples and calculate the statistic for each sample\n",
    "    bootstrap_samples = [stat_func(np.random.choice(data, size=len(data), replace=True)) \n",
    "                         for _ in range(num_bootstrap_samples)]\n",
    "    \n",
    "    # Compute the confidence interval boundaries\n",
    "    lower_bound = np.percentile(bootstrap_samples, (100 - ci) / 2)\n",
    "    upper_bound = np.percentile(bootstrap_samples, 100 - (100 - ci) / 2)\n",
    "    \n",
    "    return lower_bound, upper_bound\n",
    "\n",
    "# 95% bootstrap confidence interval for the population mean\n",
    "mean_ci = bootstrap_ci(sample, stat_func=np.mean)\n",
    "print(f\"95% Bootstrap Confidence Interval for the Mean: {mean_ci}\")\n",
    "\n",
    "# To compute the 95% bootstrap confidence interval for the population median,\n",
    "# simply change stat_func to np.median in the function call:\n",
    "median_ci = bootstrap_ci(sample, stat_func=np.median)\n",
    "print(f\"95% Bootstrap Confidence Interval for the Median: {median_ci}\")\n",
    "\n",
    "# You can replace np.mean or np.median with any other desired statistic function,\n",
    "# such as np.std for standard deviation, or a custom function for variance, etc.\n"
   ],
   "id": "7c0d3425d4c6a9a9",
   "outputs": [
    {
     "name": "stdout",
     "output_type": "stream",
     "text": [
      "95% Bootstrap Confidence Interval for the Mean: (47.276635751407504, 50.62851486440195)\n",
      "95% Bootstrap Confidence Interval for the Median: (46.98896304410711, 51.10922589709866)\n"
     ]
    }
   ],
   "execution_count": 3
  },
  {
   "metadata": {
    "ExecuteTime": {
     "end_time": "2024-10-02T00:22:10.167967Z",
     "start_time": "2024-10-02T00:22:10.141673Z"
    }
   },
   "cell_type": "code",
   "source": [
    "variance_ci = bootstrap_ci(sample, stat_func=lambda x: np.var(x, ddof=1))\n",
    "print(f\"95% Bootstrap Confidence Interval for the Variance: {variance_ci}\")\n"
   ],
   "id": "d4b6da9daa652308",
   "outputs": [
    {
     "name": "stdout",
     "output_type": "stream",
     "text": [
      "95% Bootstrap Confidence Interval for the Variance: (60.839142581548366, 103.7150513147596)\n"
     ]
    }
   ],
   "execution_count": 4
  },
  {
   "metadata": {},
   "cell_type": "markdown",
   "source": [
    "5. Because we cannot know the population mean and population standard deviation, although they are fixed values, we may never know their actual value unless we take all the data of all the objects in the whole population. When we are dealing with x% confidence interval(CI), we creat a range of values which we x% trust that the true mean lies in the range, and this range is concluded base on the distribution of sample mean because we know nothing else.\n",
    "6.  \n",
    "    1. A: What is the process of bootstrapping?\n",
    "       B: first, you have a data set, then you decides the number of trials you would try to take data. Think the original data set as a bag containing different balls, you take balls randomly as many times as you want, which means you cannot look the inside of the bag and position of balls is different, completely shuffled in other words. For every time you pick a ball, the data about the ball is recorded on computer(also can be on paper if you want to) and the ball is put back into the bag, then you can pick next ball. After you finish picking balls, statistics are calculated by the computer using mathematical formula that we don't need to care. Then one bootstrapping sample data is acquired. Repeat it for some times, you can get a set of bootstraping datas to draw a figure or some conclution.\n",
    "    2. A: What is the main purpose of bootstrapping?\n",
    "       B: Based on the knowledge I was taught in STA130 course, bootstrapping is used to find the distribution of sample statistics so that we can estimate a range for the true statistics for the population. Back to the bag-ball example, we can estimate the true statstics based on the distribution of set of bootstraping datas. Also, the distribution can be used to check the reliability of your hypothesis by creating a CI.\n",
    "    3. A: If you had a (hypothesized) guess about what the average of a population was, and you had a sample of size n from that population, how could you use bootstrapping to assess whether or not your (hypothesized) guess might be plausible?\n",
    "       B: decide a percentage for CI. Then create a CI using bootstaping explained before. Then see if my guess lies in CI. If it do lies, then we can say \"there is insufficient evidence to show that mean is not equal to my guess at x% convidence level. Otherwise enough evidences to show ...\" (This is how I taught in Alevel further mathematics. Because of writing too much Alevel pastpaper, it becomes conditioned reflex)\n",
    "7. (Again Alvel question) Denote effect distribution as X, each effect as x, my H_0 is x_bar=0. Bar on something often means mean of the thing. The x% CI is where we are confident about the true mean(mu) lies. Since 0 lies in CI, we are x% confident about mu lies in an range containing 0, we cannot say that we are x% confident that mu cannot be 0, instead, it means that we are x% confident that mu might be 0. \"On average\" means that we are considering a case that n approaches infinity (n -> +∞), I would like to say \"expected\" instead of \"on average\" since there are a lot of different averages."
   ],
   "id": "57e86712b9fbd3f6"
  },
  {
   "metadata": {},
   "cell_type": "markdown",
   "source": [
    "8.  1. get data: I write the data in a csv file, then I'll use pandas the read the data as DataFrame\n",
    "    2. analyse problem: H_0 : no effect H_1: H_1 is false\n",
    "    3. Visual representation: histogram\n",
    "   \n"
   ],
   "id": "4e99444fef4a668e"
  },
  {
   "metadata": {
    "ExecuteTime": {
     "end_time": "2024-10-02T22:22:07.423088Z",
     "start_time": "2024-10-02T22:22:07.413377Z"
    }
   },
   "cell_type": "code",
   "source": [
    "import pandas as pd\n",
    "import plotly.graph_objects as go\n",
    "df: pd.DataFrame\n",
    "df = pd.read_csv(\"Alitech.csv\")\n",
    "fig1 = go.Figure()\n",
    "fig1.add_trace(go.Histogram(x=df.InitialHealthScore, name='InitialHealthScore', nbinsx=5, opacity=0.8))\n",
    "fig1.add_trace(go.Histogram(x=df.FinalHealthScore, name='FinalHealthScore', nbinsx=5, opacity=0.8))\n",
    "fig1.update_layout(barmode='overlay', title='Overlayed Histograms', xaxis_title='Health Score', yaxis_title='Count')\n",
    "fig1.show()\n",
    "print(f\"there are {df.PatientID.count()} rows of data\")\n"
   ],
   "id": "b514cba0866fd0f",
   "outputs": [
    {
     "data": {
      "application/vnd.plotly.v1+json": {
       "data": [
        {
         "name": "InitialHealthScore",
         "nbinsx": 5,
         "opacity": 0.8,
         "x": [
          84,
          78,
          83,
          81,
          81,
          80,
          79,
          85,
          76,
          83
         ],
         "type": "histogram"
        },
        {
         "name": "FinalHealthScore",
         "nbinsx": 5,
         "opacity": 0.8,
         "x": [
          86,
          86,
          80,
          86,
          84,
          86,
          86,
          82,
          83,
          84
         ],
         "type": "histogram"
        }
       ],
       "layout": {
        "template": {
         "data": {
          "histogram2dcontour": [
           {
            "type": "histogram2dcontour",
            "colorbar": {
             "outlinewidth": 0,
             "ticks": ""
            },
            "colorscale": [
             [
              0.0,
              "#0d0887"
             ],
             [
              0.1111111111111111,
              "#46039f"
             ],
             [
              0.2222222222222222,
              "#7201a8"
             ],
             [
              0.3333333333333333,
              "#9c179e"
             ],
             [
              0.4444444444444444,
              "#bd3786"
             ],
             [
              0.5555555555555556,
              "#d8576b"
             ],
             [
              0.6666666666666666,
              "#ed7953"
             ],
             [
              0.7777777777777778,
              "#fb9f3a"
             ],
             [
              0.8888888888888888,
              "#fdca26"
             ],
             [
              1.0,
              "#f0f921"
             ]
            ]
           }
          ],
          "choropleth": [
           {
            "type": "choropleth",
            "colorbar": {
             "outlinewidth": 0,
             "ticks": ""
            }
           }
          ],
          "histogram2d": [
           {
            "type": "histogram2d",
            "colorbar": {
             "outlinewidth": 0,
             "ticks": ""
            },
            "colorscale": [
             [
              0.0,
              "#0d0887"
             ],
             [
              0.1111111111111111,
              "#46039f"
             ],
             [
              0.2222222222222222,
              "#7201a8"
             ],
             [
              0.3333333333333333,
              "#9c179e"
             ],
             [
              0.4444444444444444,
              "#bd3786"
             ],
             [
              0.5555555555555556,
              "#d8576b"
             ],
             [
              0.6666666666666666,
              "#ed7953"
             ],
             [
              0.7777777777777778,
              "#fb9f3a"
             ],
             [
              0.8888888888888888,
              "#fdca26"
             ],
             [
              1.0,
              "#f0f921"
             ]
            ]
           }
          ],
          "heatmap": [
           {
            "type": "heatmap",
            "colorbar": {
             "outlinewidth": 0,
             "ticks": ""
            },
            "colorscale": [
             [
              0.0,
              "#0d0887"
             ],
             [
              0.1111111111111111,
              "#46039f"
             ],
             [
              0.2222222222222222,
              "#7201a8"
             ],
             [
              0.3333333333333333,
              "#9c179e"
             ],
             [
              0.4444444444444444,
              "#bd3786"
             ],
             [
              0.5555555555555556,
              "#d8576b"
             ],
             [
              0.6666666666666666,
              "#ed7953"
             ],
             [
              0.7777777777777778,
              "#fb9f3a"
             ],
             [
              0.8888888888888888,
              "#fdca26"
             ],
             [
              1.0,
              "#f0f921"
             ]
            ]
           }
          ],
          "heatmapgl": [
           {
            "type": "heatmapgl",
            "colorbar": {
             "outlinewidth": 0,
             "ticks": ""
            },
            "colorscale": [
             [
              0.0,
              "#0d0887"
             ],
             [
              0.1111111111111111,
              "#46039f"
             ],
             [
              0.2222222222222222,
              "#7201a8"
             ],
             [
              0.3333333333333333,
              "#9c179e"
             ],
             [
              0.4444444444444444,
              "#bd3786"
             ],
             [
              0.5555555555555556,
              "#d8576b"
             ],
             [
              0.6666666666666666,
              "#ed7953"
             ],
             [
              0.7777777777777778,
              "#fb9f3a"
             ],
             [
              0.8888888888888888,
              "#fdca26"
             ],
             [
              1.0,
              "#f0f921"
             ]
            ]
           }
          ],
          "contourcarpet": [
           {
            "type": "contourcarpet",
            "colorbar": {
             "outlinewidth": 0,
             "ticks": ""
            }
           }
          ],
          "contour": [
           {
            "type": "contour",
            "colorbar": {
             "outlinewidth": 0,
             "ticks": ""
            },
            "colorscale": [
             [
              0.0,
              "#0d0887"
             ],
             [
              0.1111111111111111,
              "#46039f"
             ],
             [
              0.2222222222222222,
              "#7201a8"
             ],
             [
              0.3333333333333333,
              "#9c179e"
             ],
             [
              0.4444444444444444,
              "#bd3786"
             ],
             [
              0.5555555555555556,
              "#d8576b"
             ],
             [
              0.6666666666666666,
              "#ed7953"
             ],
             [
              0.7777777777777778,
              "#fb9f3a"
             ],
             [
              0.8888888888888888,
              "#fdca26"
             ],
             [
              1.0,
              "#f0f921"
             ]
            ]
           }
          ],
          "surface": [
           {
            "type": "surface",
            "colorbar": {
             "outlinewidth": 0,
             "ticks": ""
            },
            "colorscale": [
             [
              0.0,
              "#0d0887"
             ],
             [
              0.1111111111111111,
              "#46039f"
             ],
             [
              0.2222222222222222,
              "#7201a8"
             ],
             [
              0.3333333333333333,
              "#9c179e"
             ],
             [
              0.4444444444444444,
              "#bd3786"
             ],
             [
              0.5555555555555556,
              "#d8576b"
             ],
             [
              0.6666666666666666,
              "#ed7953"
             ],
             [
              0.7777777777777778,
              "#fb9f3a"
             ],
             [
              0.8888888888888888,
              "#fdca26"
             ],
             [
              1.0,
              "#f0f921"
             ]
            ]
           }
          ],
          "mesh3d": [
           {
            "type": "mesh3d",
            "colorbar": {
             "outlinewidth": 0,
             "ticks": ""
            }
           }
          ],
          "scatter": [
           {
            "marker": {
             "line": {
              "color": "#283442"
             }
            },
            "type": "scatter"
           }
          ],
          "parcoords": [
           {
            "type": "parcoords",
            "line": {
             "colorbar": {
              "outlinewidth": 0,
              "ticks": ""
             }
            }
           }
          ],
          "scatterpolargl": [
           {
            "type": "scatterpolargl",
            "marker": {
             "colorbar": {
              "outlinewidth": 0,
              "ticks": ""
             }
            }
           }
          ],
          "bar": [
           {
            "error_x": {
             "color": "#f2f5fa"
            },
            "error_y": {
             "color": "#f2f5fa"
            },
            "marker": {
             "line": {
              "color": "rgb(17,17,17)",
              "width": 0.5
             },
             "pattern": {
              "fillmode": "overlay",
              "size": 10,
              "solidity": 0.2
             }
            },
            "type": "bar"
           }
          ],
          "scattergeo": [
           {
            "type": "scattergeo",
            "marker": {
             "colorbar": {
              "outlinewidth": 0,
              "ticks": ""
             }
            }
           }
          ],
          "scatterpolar": [
           {
            "type": "scatterpolar",
            "marker": {
             "colorbar": {
              "outlinewidth": 0,
              "ticks": ""
             }
            }
           }
          ],
          "histogram": [
           {
            "marker": {
             "pattern": {
              "fillmode": "overlay",
              "size": 10,
              "solidity": 0.2
             }
            },
            "type": "histogram"
           }
          ],
          "scattergl": [
           {
            "marker": {
             "line": {
              "color": "#283442"
             }
            },
            "type": "scattergl"
           }
          ],
          "scatter3d": [
           {
            "type": "scatter3d",
            "line": {
             "colorbar": {
              "outlinewidth": 0,
              "ticks": ""
             }
            },
            "marker": {
             "colorbar": {
              "outlinewidth": 0,
              "ticks": ""
             }
            }
           }
          ],
          "scattermapbox": [
           {
            "type": "scattermapbox",
            "marker": {
             "colorbar": {
              "outlinewidth": 0,
              "ticks": ""
             }
            }
           }
          ],
          "scatterternary": [
           {
            "type": "scatterternary",
            "marker": {
             "colorbar": {
              "outlinewidth": 0,
              "ticks": ""
             }
            }
           }
          ],
          "scattercarpet": [
           {
            "type": "scattercarpet",
            "marker": {
             "colorbar": {
              "outlinewidth": 0,
              "ticks": ""
             }
            }
           }
          ],
          "carpet": [
           {
            "aaxis": {
             "endlinecolor": "#A2B1C6",
             "gridcolor": "#506784",
             "linecolor": "#506784",
             "minorgridcolor": "#506784",
             "startlinecolor": "#A2B1C6"
            },
            "baxis": {
             "endlinecolor": "#A2B1C6",
             "gridcolor": "#506784",
             "linecolor": "#506784",
             "minorgridcolor": "#506784",
             "startlinecolor": "#A2B1C6"
            },
            "type": "carpet"
           }
          ],
          "table": [
           {
            "cells": {
             "fill": {
              "color": "#506784"
             },
             "line": {
              "color": "rgb(17,17,17)"
             }
            },
            "header": {
             "fill": {
              "color": "#2a3f5f"
             },
             "line": {
              "color": "rgb(17,17,17)"
             }
            },
            "type": "table"
           }
          ],
          "barpolar": [
           {
            "marker": {
             "line": {
              "color": "rgb(17,17,17)",
              "width": 0.5
             },
             "pattern": {
              "fillmode": "overlay",
              "size": 10,
              "solidity": 0.2
             }
            },
            "type": "barpolar"
           }
          ],
          "pie": [
           {
            "automargin": true,
            "type": "pie"
           }
          ]
         },
         "layout": {
          "autotypenumbers": "strict",
          "colorway": [
           "#636efa",
           "#EF553B",
           "#00cc96",
           "#ab63fa",
           "#FFA15A",
           "#19d3f3",
           "#FF6692",
           "#B6E880",
           "#FF97FF",
           "#FECB52"
          ],
          "font": {
           "color": "#f2f5fa"
          },
          "hovermode": "closest",
          "hoverlabel": {
           "align": "left"
          },
          "paper_bgcolor": "rgb(17,17,17)",
          "plot_bgcolor": "rgb(17,17,17)",
          "polar": {
           "bgcolor": "rgb(17,17,17)",
           "angularaxis": {
            "gridcolor": "#506784",
            "linecolor": "#506784",
            "ticks": ""
           },
           "radialaxis": {
            "gridcolor": "#506784",
            "linecolor": "#506784",
            "ticks": ""
           }
          },
          "ternary": {
           "bgcolor": "rgb(17,17,17)",
           "aaxis": {
            "gridcolor": "#506784",
            "linecolor": "#506784",
            "ticks": ""
           },
           "baxis": {
            "gridcolor": "#506784",
            "linecolor": "#506784",
            "ticks": ""
           },
           "caxis": {
            "gridcolor": "#506784",
            "linecolor": "#506784",
            "ticks": ""
           }
          },
          "coloraxis": {
           "colorbar": {
            "outlinewidth": 0,
            "ticks": ""
           }
          },
          "colorscale": {
           "sequential": [
            [
             0.0,
             "#0d0887"
            ],
            [
             0.1111111111111111,
             "#46039f"
            ],
            [
             0.2222222222222222,
             "#7201a8"
            ],
            [
             0.3333333333333333,
             "#9c179e"
            ],
            [
             0.4444444444444444,
             "#bd3786"
            ],
            [
             0.5555555555555556,
             "#d8576b"
            ],
            [
             0.6666666666666666,
             "#ed7953"
            ],
            [
             0.7777777777777778,
             "#fb9f3a"
            ],
            [
             0.8888888888888888,
             "#fdca26"
            ],
            [
             1.0,
             "#f0f921"
            ]
           ],
           "sequentialminus": [
            [
             0.0,
             "#0d0887"
            ],
            [
             0.1111111111111111,
             "#46039f"
            ],
            [
             0.2222222222222222,
             "#7201a8"
            ],
            [
             0.3333333333333333,
             "#9c179e"
            ],
            [
             0.4444444444444444,
             "#bd3786"
            ],
            [
             0.5555555555555556,
             "#d8576b"
            ],
            [
             0.6666666666666666,
             "#ed7953"
            ],
            [
             0.7777777777777778,
             "#fb9f3a"
            ],
            [
             0.8888888888888888,
             "#fdca26"
            ],
            [
             1.0,
             "#f0f921"
            ]
           ],
           "diverging": [
            [
             0,
             "#8e0152"
            ],
            [
             0.1,
             "#c51b7d"
            ],
            [
             0.2,
             "#de77ae"
            ],
            [
             0.3,
             "#f1b6da"
            ],
            [
             0.4,
             "#fde0ef"
            ],
            [
             0.5,
             "#f7f7f7"
            ],
            [
             0.6,
             "#e6f5d0"
            ],
            [
             0.7,
             "#b8e186"
            ],
            [
             0.8,
             "#7fbc41"
            ],
            [
             0.9,
             "#4d9221"
            ],
            [
             1,
             "#276419"
            ]
           ]
          },
          "xaxis": {
           "gridcolor": "#283442",
           "linecolor": "#506784",
           "ticks": "",
           "title": {
            "standoff": 15
           },
           "zerolinecolor": "#283442",
           "automargin": true,
           "zerolinewidth": 2
          },
          "yaxis": {
           "gridcolor": "#283442",
           "linecolor": "#506784",
           "ticks": "",
           "title": {
            "standoff": 15
           },
           "zerolinecolor": "#283442",
           "automargin": true,
           "zerolinewidth": 2
          },
          "scene": {
           "xaxis": {
            "backgroundcolor": "rgb(17,17,17)",
            "gridcolor": "#506784",
            "linecolor": "#506784",
            "showbackground": true,
            "ticks": "",
            "zerolinecolor": "#C8D4E3",
            "gridwidth": 2
           },
           "yaxis": {
            "backgroundcolor": "rgb(17,17,17)",
            "gridcolor": "#506784",
            "linecolor": "#506784",
            "showbackground": true,
            "ticks": "",
            "zerolinecolor": "#C8D4E3",
            "gridwidth": 2
           },
           "zaxis": {
            "backgroundcolor": "rgb(17,17,17)",
            "gridcolor": "#506784",
            "linecolor": "#506784",
            "showbackground": true,
            "ticks": "",
            "zerolinecolor": "#C8D4E3",
            "gridwidth": 2
           }
          },
          "shapedefaults": {
           "line": {
            "color": "#f2f5fa"
           }
          },
          "annotationdefaults": {
           "arrowcolor": "#f2f5fa",
           "arrowhead": 0,
           "arrowwidth": 1
          },
          "geo": {
           "bgcolor": "rgb(17,17,17)",
           "landcolor": "rgb(17,17,17)",
           "subunitcolor": "#506784",
           "showland": true,
           "showlakes": true,
           "lakecolor": "rgb(17,17,17)"
          },
          "title": {
           "x": 0.05
          },
          "updatemenudefaults": {
           "bgcolor": "#506784",
           "borderwidth": 0
          },
          "sliderdefaults": {
           "bgcolor": "#C8D4E3",
           "borderwidth": 1,
           "bordercolor": "rgb(17,17,17)",
           "tickwidth": 0
          },
          "mapbox": {
           "style": "dark"
          }
         }
        },
        "barmode": "overlay",
        "title": {
         "text": "Overlayed Histograms"
        },
        "xaxis": {
         "title": {
          "text": "Health Score"
         }
        },
        "yaxis": {
         "title": {
          "text": "Count"
         }
        }
       },
       "config": {
        "plotlyServerURL": "https://plot.ly"
       }
      },
      "text/html": [
       "<div>                            <div id=\"680ad5c7-06fb-4d41-8a25-e4c6e0bcb070\" class=\"plotly-graph-div\" style=\"height:525px; width:100%;\"></div>            <script type=\"text/javascript\">                require([\"plotly\"], function(Plotly) {                    window.PLOTLYENV=window.PLOTLYENV || {};                                    if (document.getElementById(\"680ad5c7-06fb-4d41-8a25-e4c6e0bcb070\")) {                    Plotly.newPlot(                        \"680ad5c7-06fb-4d41-8a25-e4c6e0bcb070\",                        [{\"name\":\"InitialHealthScore\",\"nbinsx\":5,\"opacity\":0.8,\"x\":[84,78,83,81,81,80,79,85,76,83],\"type\":\"histogram\"},{\"name\":\"FinalHealthScore\",\"nbinsx\":5,\"opacity\":0.8,\"x\":[86,86,80,86,84,86,86,82,83,84],\"type\":\"histogram\"}],                        {\"template\":{\"data\":{\"histogram2dcontour\":[{\"type\":\"histogram2dcontour\",\"colorbar\":{\"outlinewidth\":0,\"ticks\":\"\"},\"colorscale\":[[0.0,\"#0d0887\"],[0.1111111111111111,\"#46039f\"],[0.2222222222222222,\"#7201a8\"],[0.3333333333333333,\"#9c179e\"],[0.4444444444444444,\"#bd3786\"],[0.5555555555555556,\"#d8576b\"],[0.6666666666666666,\"#ed7953\"],[0.7777777777777778,\"#fb9f3a\"],[0.8888888888888888,\"#fdca26\"],[1.0,\"#f0f921\"]]}],\"choropleth\":[{\"type\":\"choropleth\",\"colorbar\":{\"outlinewidth\":0,\"ticks\":\"\"}}],\"histogram2d\":[{\"type\":\"histogram2d\",\"colorbar\":{\"outlinewidth\":0,\"ticks\":\"\"},\"colorscale\":[[0.0,\"#0d0887\"],[0.1111111111111111,\"#46039f\"],[0.2222222222222222,\"#7201a8\"],[0.3333333333333333,\"#9c179e\"],[0.4444444444444444,\"#bd3786\"],[0.5555555555555556,\"#d8576b\"],[0.6666666666666666,\"#ed7953\"],[0.7777777777777778,\"#fb9f3a\"],[0.8888888888888888,\"#fdca26\"],[1.0,\"#f0f921\"]]}],\"heatmap\":[{\"type\":\"heatmap\",\"colorbar\":{\"outlinewidth\":0,\"ticks\":\"\"},\"colorscale\":[[0.0,\"#0d0887\"],[0.1111111111111111,\"#46039f\"],[0.2222222222222222,\"#7201a8\"],[0.3333333333333333,\"#9c179e\"],[0.4444444444444444,\"#bd3786\"],[0.5555555555555556,\"#d8576b\"],[0.6666666666666666,\"#ed7953\"],[0.7777777777777778,\"#fb9f3a\"],[0.8888888888888888,\"#fdca26\"],[1.0,\"#f0f921\"]]}],\"heatmapgl\":[{\"type\":\"heatmapgl\",\"colorbar\":{\"outlinewidth\":0,\"ticks\":\"\"},\"colorscale\":[[0.0,\"#0d0887\"],[0.1111111111111111,\"#46039f\"],[0.2222222222222222,\"#7201a8\"],[0.3333333333333333,\"#9c179e\"],[0.4444444444444444,\"#bd3786\"],[0.5555555555555556,\"#d8576b\"],[0.6666666666666666,\"#ed7953\"],[0.7777777777777778,\"#fb9f3a\"],[0.8888888888888888,\"#fdca26\"],[1.0,\"#f0f921\"]]}],\"contourcarpet\":[{\"type\":\"contourcarpet\",\"colorbar\":{\"outlinewidth\":0,\"ticks\":\"\"}}],\"contour\":[{\"type\":\"contour\",\"colorbar\":{\"outlinewidth\":0,\"ticks\":\"\"},\"colorscale\":[[0.0,\"#0d0887\"],[0.1111111111111111,\"#46039f\"],[0.2222222222222222,\"#7201a8\"],[0.3333333333333333,\"#9c179e\"],[0.4444444444444444,\"#bd3786\"],[0.5555555555555556,\"#d8576b\"],[0.6666666666666666,\"#ed7953\"],[0.7777777777777778,\"#fb9f3a\"],[0.8888888888888888,\"#fdca26\"],[1.0,\"#f0f921\"]]}],\"surface\":[{\"type\":\"surface\",\"colorbar\":{\"outlinewidth\":0,\"ticks\":\"\"},\"colorscale\":[[0.0,\"#0d0887\"],[0.1111111111111111,\"#46039f\"],[0.2222222222222222,\"#7201a8\"],[0.3333333333333333,\"#9c179e\"],[0.4444444444444444,\"#bd3786\"],[0.5555555555555556,\"#d8576b\"],[0.6666666666666666,\"#ed7953\"],[0.7777777777777778,\"#fb9f3a\"],[0.8888888888888888,\"#fdca26\"],[1.0,\"#f0f921\"]]}],\"mesh3d\":[{\"type\":\"mesh3d\",\"colorbar\":{\"outlinewidth\":0,\"ticks\":\"\"}}],\"scatter\":[{\"marker\":{\"line\":{\"color\":\"#283442\"}},\"type\":\"scatter\"}],\"parcoords\":[{\"type\":\"parcoords\",\"line\":{\"colorbar\":{\"outlinewidth\":0,\"ticks\":\"\"}}}],\"scatterpolargl\":[{\"type\":\"scatterpolargl\",\"marker\":{\"colorbar\":{\"outlinewidth\":0,\"ticks\":\"\"}}}],\"bar\":[{\"error_x\":{\"color\":\"#f2f5fa\"},\"error_y\":{\"color\":\"#f2f5fa\"},\"marker\":{\"line\":{\"color\":\"rgb(17,17,17)\",\"width\":0.5},\"pattern\":{\"fillmode\":\"overlay\",\"size\":10,\"solidity\":0.2}},\"type\":\"bar\"}],\"scattergeo\":[{\"type\":\"scattergeo\",\"marker\":{\"colorbar\":{\"outlinewidth\":0,\"ticks\":\"\"}}}],\"scatterpolar\":[{\"type\":\"scatterpolar\",\"marker\":{\"colorbar\":{\"outlinewidth\":0,\"ticks\":\"\"}}}],\"histogram\":[{\"marker\":{\"pattern\":{\"fillmode\":\"overlay\",\"size\":10,\"solidity\":0.2}},\"type\":\"histogram\"}],\"scattergl\":[{\"marker\":{\"line\":{\"color\":\"#283442\"}},\"type\":\"scattergl\"}],\"scatter3d\":[{\"type\":\"scatter3d\",\"line\":{\"colorbar\":{\"outlinewidth\":0,\"ticks\":\"\"}},\"marker\":{\"colorbar\":{\"outlinewidth\":0,\"ticks\":\"\"}}}],\"scattermapbox\":[{\"type\":\"scattermapbox\",\"marker\":{\"colorbar\":{\"outlinewidth\":0,\"ticks\":\"\"}}}],\"scatterternary\":[{\"type\":\"scatterternary\",\"marker\":{\"colorbar\":{\"outlinewidth\":0,\"ticks\":\"\"}}}],\"scattercarpet\":[{\"type\":\"scattercarpet\",\"marker\":{\"colorbar\":{\"outlinewidth\":0,\"ticks\":\"\"}}}],\"carpet\":[{\"aaxis\":{\"endlinecolor\":\"#A2B1C6\",\"gridcolor\":\"#506784\",\"linecolor\":\"#506784\",\"minorgridcolor\":\"#506784\",\"startlinecolor\":\"#A2B1C6\"},\"baxis\":{\"endlinecolor\":\"#A2B1C6\",\"gridcolor\":\"#506784\",\"linecolor\":\"#506784\",\"minorgridcolor\":\"#506784\",\"startlinecolor\":\"#A2B1C6\"},\"type\":\"carpet\"}],\"table\":[{\"cells\":{\"fill\":{\"color\":\"#506784\"},\"line\":{\"color\":\"rgb(17,17,17)\"}},\"header\":{\"fill\":{\"color\":\"#2a3f5f\"},\"line\":{\"color\":\"rgb(17,17,17)\"}},\"type\":\"table\"}],\"barpolar\":[{\"marker\":{\"line\":{\"color\":\"rgb(17,17,17)\",\"width\":0.5},\"pattern\":{\"fillmode\":\"overlay\",\"size\":10,\"solidity\":0.2}},\"type\":\"barpolar\"}],\"pie\":[{\"automargin\":true,\"type\":\"pie\"}]},\"layout\":{\"autotypenumbers\":\"strict\",\"colorway\":[\"#636efa\",\"#EF553B\",\"#00cc96\",\"#ab63fa\",\"#FFA15A\",\"#19d3f3\",\"#FF6692\",\"#B6E880\",\"#FF97FF\",\"#FECB52\"],\"font\":{\"color\":\"#f2f5fa\"},\"hovermode\":\"closest\",\"hoverlabel\":{\"align\":\"left\"},\"paper_bgcolor\":\"rgb(17,17,17)\",\"plot_bgcolor\":\"rgb(17,17,17)\",\"polar\":{\"bgcolor\":\"rgb(17,17,17)\",\"angularaxis\":{\"gridcolor\":\"#506784\",\"linecolor\":\"#506784\",\"ticks\":\"\"},\"radialaxis\":{\"gridcolor\":\"#506784\",\"linecolor\":\"#506784\",\"ticks\":\"\"}},\"ternary\":{\"bgcolor\":\"rgb(17,17,17)\",\"aaxis\":{\"gridcolor\":\"#506784\",\"linecolor\":\"#506784\",\"ticks\":\"\"},\"baxis\":{\"gridcolor\":\"#506784\",\"linecolor\":\"#506784\",\"ticks\":\"\"},\"caxis\":{\"gridcolor\":\"#506784\",\"linecolor\":\"#506784\",\"ticks\":\"\"}},\"coloraxis\":{\"colorbar\":{\"outlinewidth\":0,\"ticks\":\"\"}},\"colorscale\":{\"sequential\":[[0.0,\"#0d0887\"],[0.1111111111111111,\"#46039f\"],[0.2222222222222222,\"#7201a8\"],[0.3333333333333333,\"#9c179e\"],[0.4444444444444444,\"#bd3786\"],[0.5555555555555556,\"#d8576b\"],[0.6666666666666666,\"#ed7953\"],[0.7777777777777778,\"#fb9f3a\"],[0.8888888888888888,\"#fdca26\"],[1.0,\"#f0f921\"]],\"sequentialminus\":[[0.0,\"#0d0887\"],[0.1111111111111111,\"#46039f\"],[0.2222222222222222,\"#7201a8\"],[0.3333333333333333,\"#9c179e\"],[0.4444444444444444,\"#bd3786\"],[0.5555555555555556,\"#d8576b\"],[0.6666666666666666,\"#ed7953\"],[0.7777777777777778,\"#fb9f3a\"],[0.8888888888888888,\"#fdca26\"],[1.0,\"#f0f921\"]],\"diverging\":[[0,\"#8e0152\"],[0.1,\"#c51b7d\"],[0.2,\"#de77ae\"],[0.3,\"#f1b6da\"],[0.4,\"#fde0ef\"],[0.5,\"#f7f7f7\"],[0.6,\"#e6f5d0\"],[0.7,\"#b8e186\"],[0.8,\"#7fbc41\"],[0.9,\"#4d9221\"],[1,\"#276419\"]]},\"xaxis\":{\"gridcolor\":\"#283442\",\"linecolor\":\"#506784\",\"ticks\":\"\",\"title\":{\"standoff\":15},\"zerolinecolor\":\"#283442\",\"automargin\":true,\"zerolinewidth\":2},\"yaxis\":{\"gridcolor\":\"#283442\",\"linecolor\":\"#506784\",\"ticks\":\"\",\"title\":{\"standoff\":15},\"zerolinecolor\":\"#283442\",\"automargin\":true,\"zerolinewidth\":2},\"scene\":{\"xaxis\":{\"backgroundcolor\":\"rgb(17,17,17)\",\"gridcolor\":\"#506784\",\"linecolor\":\"#506784\",\"showbackground\":true,\"ticks\":\"\",\"zerolinecolor\":\"#C8D4E3\",\"gridwidth\":2},\"yaxis\":{\"backgroundcolor\":\"rgb(17,17,17)\",\"gridcolor\":\"#506784\",\"linecolor\":\"#506784\",\"showbackground\":true,\"ticks\":\"\",\"zerolinecolor\":\"#C8D4E3\",\"gridwidth\":2},\"zaxis\":{\"backgroundcolor\":\"rgb(17,17,17)\",\"gridcolor\":\"#506784\",\"linecolor\":\"#506784\",\"showbackground\":true,\"ticks\":\"\",\"zerolinecolor\":\"#C8D4E3\",\"gridwidth\":2}},\"shapedefaults\":{\"line\":{\"color\":\"#f2f5fa\"}},\"annotationdefaults\":{\"arrowcolor\":\"#f2f5fa\",\"arrowhead\":0,\"arrowwidth\":1},\"geo\":{\"bgcolor\":\"rgb(17,17,17)\",\"landcolor\":\"rgb(17,17,17)\",\"subunitcolor\":\"#506784\",\"showland\":true,\"showlakes\":true,\"lakecolor\":\"rgb(17,17,17)\"},\"title\":{\"x\":0.05},\"updatemenudefaults\":{\"bgcolor\":\"#506784\",\"borderwidth\":0},\"sliderdefaults\":{\"bgcolor\":\"#C8D4E3\",\"borderwidth\":1,\"bordercolor\":\"rgb(17,17,17)\",\"tickwidth\":0},\"mapbox\":{\"style\":\"dark\"}}},\"barmode\":\"overlay\",\"title\":{\"text\":\"Overlayed Histograms\"},\"xaxis\":{\"title\":{\"text\":\"Health Score\"}},\"yaxis\":{\"title\":{\"text\":\"Count\"}}},                        {\"responsive\": true}                    ).then(function(){\n",
       "                            \n",
       "var gd = document.getElementById('680ad5c7-06fb-4d41-8a25-e4c6e0bcb070');\n",
       "var x = new MutationObserver(function (mutations, observer) {{\n",
       "        var display = window.getComputedStyle(gd).display;\n",
       "        if (!display || display === 'none') {{\n",
       "            console.log([gd, 'removed!']);\n",
       "            Plotly.purge(gd);\n",
       "            observer.disconnect();\n",
       "        }}\n",
       "}});\n",
       "\n",
       "// Listen for the removal of the full notebook cells\n",
       "var notebookContainer = gd.closest('#notebook-container');\n",
       "if (notebookContainer) {{\n",
       "    x.observe(notebookContainer, {childList: true});\n",
       "}}\n",
       "\n",
       "// Listen for the clearing of the current output cell\n",
       "var outputEl = gd.closest('.output');\n",
       "if (outputEl) {{\n",
       "    x.observe(outputEl, {childList: true});\n",
       "}}\n",
       "\n",
       "                        })                };                });            </script>        </div>"
      ]
     },
     "metadata": {},
     "output_type": "display_data"
    },
    {
     "name": "stdout",
     "output_type": "stream",
     "text": [
      "there are 10 rows of data\n"
     ]
    }
   ],
   "execution_count": 34
  },
  {
   "metadata": {},
   "cell_type": "markdown",
   "source": [
    "It looks like there is a positive effect since Final Heakth Score is more concentrated to the right than initial.\n",
    "\n",
    "\n",
    "Null Hypothesis: there is no difference between initial anda final health score.\n",
    "\n",
    "\n",
    "Alternative Hypothesis: there is a increment form initial to final health score.\n",
    "\n",
    "\n",
    "If the population is normally-distributed, we can use t-test, but we do not know, so I'll use Wilcoxon Signed-Rank Test\n",
    "\n",
    "\n",
    "By looking the hypothesis, it is an one-tailed test, and I will use 5% level of significance"
   ],
   "id": "8544d74484c76a84"
  },
  {
   "metadata": {
    "ExecuteTime": {
     "end_time": "2024-10-02T22:22:37.662807Z",
     "start_time": "2024-10-02T22:22:37.659082Z"
    }
   },
   "cell_type": "code",
   "source": [
    "difference = df.FinalHealthScore - df.InitialHealthScore\n",
    "tmp = list(difference)\n",
    "tmp.sort(key=lambda x: abs(x))\n",
    "p = 0\n",
    "q = 0\n",
    "for i,x in enumerate(tmp):\n",
    "    if x > 0:\n",
    "        p += i+1\n",
    "    elif x < 0:\n",
    "        q += i+1\n",
    "T = min(p,q)\n",
    "print(f\"T = {T}\")"
   ],
   "id": "f70547c408754ef9",
   "outputs": [
    {
     "name": "stdout",
     "output_type": "stream",
     "text": [
      "T = 8\n"
     ]
    }
   ],
   "execution_count": 35
  },
  {
   "metadata": {},
   "cell_type": "markdown",
   "source": "By read the table of Critical value of T in Wilcoxon Signed-Rank Test, the largest T value for n=10, one-tailed, 5% level of significance is 10. 8<10, so 8 lies in critical region. Hence, we can reject Null hypothesis, there is a increment form initial to final health score at 5% significance level.",
   "id": "199c044533344e50"
  },
  {
   "metadata": {},
   "cell_type": "markdown",
   "source": "9. Somehow",
   "id": "ecd9243f89d2af68"
  }
 ],
 "metadata": {
  "kernelspec": {
   "display_name": "Python 3",
   "language": "python",
   "name": "python3"
  },
  "language_info": {
   "codemirror_mode": {
    "name": "ipython",
    "version": 2
   },
   "file_extension": ".py",
   "mimetype": "text/x-python",
   "name": "python",
   "nbconvert_exporter": "python",
   "pygments_lexer": "ipython2",
   "version": "2.7.6"
  }
 },
 "nbformat": 4,
 "nbformat_minor": 5
}
