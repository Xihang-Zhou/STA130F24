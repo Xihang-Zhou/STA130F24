{
 "cells": [
  {
   "metadata": {},
   "cell_type": "markdown",
   "source": [
    "1   What is the key factor that makes the difference between ideas that can, and cannot be examined and tested statistically?\n",
    "\n",
    "\n",
    "  I think that it is depends on whether the data can be quantified, have clearly measureable variables that we can observe. If the idea about a population can be represented by clear quantities, then it can be tested statistically.\n",
    "    \n",
    "\n",
    "  What would you describe is the key \"criteria\" defining what a good null hypothesis is?\n",
    "    \n",
    "\n",
    "  I think a good null hypothesis should be a statement that can be written as simple words and write in simple mathematical experssion such as Population A and B is independent, mean of A is 5, etc. It should be neutral, testable, falsifiable, objective and conservative. Which means that it is a objective statement that we can test it to prove or disprove. But if we do not have strong enough evidence (statistically), we cannot reject the null hypothesis. (Again memorized alevel key point, but I paraphrase in my own word)\n",
    "    \n",
    "\n",
    "  What is the difference between a null hypothesis and an alternative hypothesis in the context of hypothesis testing?\n",
    "    \n",
    "\n",
    "  I think that null hypothesis related to no effect, no change, no difference or no association (like Control group in scientific experiments). Whereas alternative hypothesis is the opposite of null hypothesis, it means there is some effect, change, difference or association (like experiment group in scientific experiments)\n",
    "    "
   ],
   "id": "eb9188e8fe7472e3"
  },
  {
   "metadata": {},
   "cell_type": "markdown",
   "source": [
    "2 \"It is important to note that outcomes of tests refer to the population parameter, rather than the sample statistic! As such, the result that we get is for the population.\"\n",
    "\n",
    "\n",
    "  Our hypothesis is for population mean, $\\mu$, because we can directly calculates sample mean, $\\bar x$ from $x_i$s, and we assume $\\mu = \\mu_0$ for a test that can accept or reject this assumption by finding a range of $\\bar x$ can be. The result determines $\\mu$ instead of known $\\bar x$."
   ],
   "id": "7ddb5ee8ae90ed2b"
  },
  {
   "metadata": {},
   "cell_type": "markdown",
   "source": [
    "3 \"imagine a world where the null hypothesis is true\" when calculating a p-value\n",
    "\n",
    "\n",
    "  It means that we are calculating the probability in the world that the null hypothesis is true, we are assuming $H_0$ is true and by saying the probability is too low or not to judge whether $H_0$ is false. (similar to disproving $H_0$ by contradiction but based on value of probability instead of based on rigurous logic)"
   ],
   "id": "6452969b77cd5762"
  },
  {
   "metadata": {},
   "cell_type": "markdown",
   "source": [
    "4 a smaller p-value makes the null hypothesis look more ridiculous.</br>\n",
    "  Smaller p-value means less probable for this sample mean and more extreme sample means to fall into the region of null hypothesis. So it is more likely to reject $H_0$ since we found a less likely example. Hence, $H_0$ becomes more rediculous."
   ],
   "id": "98ef6be1b87260d0"
  },
  {
   "metadata": {},
   "cell_type": "markdown",
   "source": [
    "5 </br>\n",
    "$H_0$: the population of humans don't have left or right head tilt tendencies when kissing<br/>\n",
    "$H_1$: the population of humans have right head tilt tendencies when kissing<br/>\n",
    "50/50 coin fliping model: binomial distribution. Where probability of right tilt is 0.5.<br/>\n",
    "80 out of 124 is right tilt. Number of trials is 124<br/>\n",
    "$$X\\sim B(124,0.5)$$\n",
    "$$P(x>=80)= \\sum_{i=80}^{124}\\binom{124}{i}\\times1/2^{124-i}\\times1/2^i=1/2^{124}\\sum_{i=80}^{124}\\binom{124}{i}$$\n"
   ],
   "id": "9890146d2d34c81"
  },
  {
   "metadata": {
    "ExecuteTime": {
     "end_time": "2024-10-06T22:00:45.159399Z",
     "start_time": "2024-10-06T22:00:45.154945Z"
    }
   },
   "cell_type": "code",
   "source": [
    "from math import comb\n",
    "p = (0.5**124)*sum(comb(124, i)for i in range(80,125))\n",
    "p"
   ],
   "id": "ff74b265dccd342a",
   "outputs": [
    {
     "data": {
      "text/plain": [
       "0.0007823670130848327"
      ]
     },
     "execution_count": 2,
     "metadata": {},
     "output_type": "execute_result"
    }
   ],
   "execution_count": 2
  },
  {
   "metadata": {
    "ExecuteTime": {
     "end_time": "2024-10-06T22:00:46.822794Z",
     "start_time": "2024-10-06T22:00:46.819382Z"
    }
   },
   "cell_type": "code",
   "source": "0.001 > p",
   "id": "8e84fb4c44845be",
   "outputs": [
    {
     "data": {
      "text/plain": [
       "True"
      ]
     },
     "execution_count": 3,
     "metadata": {},
     "output_type": "execute_result"
    }
   ],
   "execution_count": 3
  },
  {
   "metadata": {},
   "cell_type": "markdown",
   "source": "Since 0.001 > p. We have very strong evidence against the null hypothesis.",
   "id": "73684f77a78f8820"
  },
  {
   "metadata": {},
   "cell_type": "markdown",
   "source": [
    "6\n",
    "  Can a smaller p-value definitively prove that the null hypothesis is false? Is it possible to definitively prove that Fido (from the \"second pre-lecture video\") is innocent using a p-value? Is it possible to difinitively prove that Fido is guilty using a p-value? How low or high does a p-value have to be to definitely prove one or the other? Explain this concisely in your own words.</br></br>\n",
    "  No, because $\\int_{-\\infty}^{+\\infty} N(x) dx =1$, and for any x, formula of normal ditribution shows that N(x) > 0. So no matter how small the p-value(P(X>=x)) is, x is still a finite number, the integral from negative infinity to x is not equal to 1. Unless the distribution function is bounded, but that is not exist in the real world."
   ],
   "id": "ec2443ccaae50681"
  },
  {
   "metadata": {},
   "cell_type": "markdown",
   "source": "7 written by meself because I found that ChatBot code is buggy.(mainly Ctrl+C/V from tut demo)",
   "id": "d20d47b5750f99e9"
  },
  {
   "metadata": {
    "ExecuteTime": {
     "end_time": "2024-10-07T21:22:55.838152Z",
     "start_time": "2024-10-07T21:22:55.709315Z"
    }
   },
   "cell_type": "code",
   "outputs": [],
   "execution_count": 8,
   "source": [
    "import pandas as pd\n",
    "import numpy as np\n",
    "\n",
    "patient_data = pd.DataFrame({\n",
    "    \"PatientID\": [1, 2, 3, 4, 5, 6, 7, 8, 9, 10],\n",
    "    \"Age\": [45, 34, 29, 52, 37, 41, 33, 48, 26, 39],\n",
    "    \"Gender\": [\"M\", \"F\", \"M\", \"F\", \"M\", \"F\", \"M\", \"F\", \"M\", \"F\"],\n",
    "    \"InitialHealthScore\": [84, 78, 83, 81, 81, 80, 79, 85, 76, 83],\n",
    "    \"FinalHealthScore\": [86, 86, 80, 86, 84, 86, 86, 82, 83, 84]\n",
    "})\n",
    "np.random.seed(1)  # make simulation reproducible\n",
    "number_of_simulations = 10000\n",
    "n_size = len(patient_data)  # 10\n",
    "IncreaseProportionSimulations_underH0random = np.zeros(number_of_simulations)\n",
    "for i in range(number_of_simulations):\n",
    "    random_improvement = np.random.choice([0,1], size=len(patient_data), replace=True)\n",
    "    IncreaseProportionSimulations_underH0random[i] = random_improvement.mean()\n",
    "simulated_statistics = IncreaseProportionSimulations_underH0random\n",
    "\n",
    "observed_statistic = (patient_data.FinalHealthScore - patient_data.InitialHealthScore > 0).mean()\n",
    "\n",
    "\n",
    "population_parameter_value_under_H0 = 0.5\n",
    "\n",
    "# Look for simulated statistics greater than the observed, relative to H0\n",
    "SimStats_as_or_more_extreme_than_ObsStat = \\\n",
    "    (simulated_statistics - population_parameter_value_under_H0) >= \\\n",
    "    (observed_statistic - population_parameter_value_under_H0)\n",
    "    \n",
    "p_value = (SimStats_as_or_more_extreme_than_ObsStat).sum() / number_of_simulations"
   ],
   "id": "609a3fae7a1d898e"
  },
  {
   "metadata": {
    "ExecuteTime": {
     "end_time": "2024-10-07T21:22:57.606580Z",
     "start_time": "2024-10-07T21:22:57.603219Z"
    }
   },
   "cell_type": "code",
   "source": "p_value",
   "id": "f1a7e2d481e53dc7",
   "outputs": [
    {
     "data": {
      "text/plain": [
       "0.0565"
      ]
     },
     "execution_count": 9,
     "metadata": {},
     "output_type": "execute_result"
    }
   ],
   "execution_count": 9
  },
  {
   "metadata": {},
   "cell_type": "markdown",
   "source": [
    "Describe (perhaps with the help of your ChatBot) what changed in the code</br>\n",
    "actually only the abs() is deleted since we do not need the case of 0.5 - simulated is less than 0.5 - observed but only case of its logical negation.</br>\n",
    " how this changes the interpretation of the hypothesis test; and whether or not we should indeed expect the p-value to be smaller in the \"one tailed\" versus \"two tailed\" analysis.</br>\n",
    " $H_A$ changes from \"health score is differ after using the vaccine\" to \"health score is increased after using the vaccine\". This means we exclude the case of health score is lowered. So the p-value should be lower as some terms in the addtion is excluded as all the terms is positive (no nagative probability).\n",
    " "
   ],
   "id": "8ad43183ff420ea9"
  },
  {
   "metadata": {},
   "cell_type": "markdown",
   "source": [
    "8\n",
    "$$ H_0\\text{: Human cannot indentify whether the milk or tea was poured first, their answer is random}$$\n",
    "$$ H_A\\text{: Human can indentify whether the milk or tea was poured first, their answer tends to be correct}$$\n",
    "Assume that answers are independent and these 80 students can represent the STA130 students' population and Fisher has no difference with these students(assume Fisher has no superpower and cannot identify which one is first by listening the sound, etc.)</br>\n",
    "Answer is either True or False, each is 50% since answer is random by $H_0$.</br>\n",
    "Here we can say that number of correct answers from the 80 students, X, follows a binomial distribution with number of trials=80, probability of success=0.5.\n",
    "$$ X \\sim  B(80, 0.5)$$\n",
    "$$P(X>=49) = \\frac{1}{2}^{80}\\sum_{i=49}^{80}{\\binom{80}{i}}$$"
   ],
   "id": "1022f66020339d48"
  },
  {
   "metadata": {
    "ExecuteTime": {
     "end_time": "2024-10-07T22:13:44.764677Z",
     "start_time": "2024-10-07T22:13:44.760471Z"
    }
   },
   "cell_type": "code",
   "source": [
    "from math import comb\n",
    "p = (0.5**80)*sum(comb(80, i)for i in range(49, 81))\n",
    "p"
   ],
   "id": "50cff35d1cea5968",
   "outputs": [
    {
     "data": {
      "text/plain": [
       "0.02833221317256057"
      ]
     },
     "execution_count": 11,
     "metadata": {},
     "output_type": "execute_result"
    }
   ],
   "execution_count": 11
  },
  {
   "metadata": {
    "ExecuteTime": {
     "end_time": "2024-10-07T22:15:33.767344Z",
     "start_time": "2024-10-07T22:15:33.763838Z"
    }
   },
   "cell_type": "code",
   "source": "0.05 > p",
   "id": "75cedf90b03a0886",
   "outputs": [
    {
     "data": {
      "text/plain": [
       "True"
      ]
     },
     "execution_count": 13,
     "metadata": {},
     "output_type": "execute_result"
    }
   ],
   "execution_count": 13
  },
  {
   "metadata": {},
   "cell_type": "markdown",
   "source": [
    "My $H_A$ is one-sided since I say that more likely to be correct. </br>\n",
    "$H_0$ is rejected. There is sufficient evidence to suggest that human can identify whether the milk or tea was poured first at 5% significance level.</br>\n",
    "So Fisher can identify the difference as long as there is no difference between Fisher and STA130 students"
   ],
   "id": "428a75d9ec043b79"
  },
  {
   "metadata": {},
   "cell_type": "markdown",
   "source": "9 No",
   "id": "6b9c248de521c3e1"
  }
 ],
 "metadata": {
  "kernelspec": {
   "display_name": "Python 3",
   "language": "python",
   "name": "python3"
  },
  "language_info": {
   "codemirror_mode": {
    "name": "ipython",
    "version": 2
   },
   "file_extension": ".py",
   "mimetype": "text/x-python",
   "name": "python",
   "nbconvert_exporter": "python",
   "pygments_lexer": "ipython2",
   "version": "2.7.6"
  }
 },
 "nbformat": 4,
 "nbformat_minor": 5
}
