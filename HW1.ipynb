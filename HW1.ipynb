{
 "cells": [
  {
   "cell_type": "markdown",
   "id": "038476bd-dfb7-4608-9e7a-5ebb7f71bf94",
   "metadata": {
    "scrolled": true
   },
   "source": [
    "1"
   ]
  },
  {
   "cell_type": "code",
   "execution_count": 19,
   "id": "98043d28-b8d2-4ea0-870b-3a3167f31a59",
   "metadata": {},
   "outputs": [
    {
     "name": "stdout",
     "output_type": "stream",
     "text": [
      "Number of rows: 891\n",
      "Number of columns: 15\n"
     ]
    }
   ],
   "source": [
    "import pandas as pd\n",
    "\n",
    "# Load the Titanic dataset as an example\n",
    "titanic_df = pd.read_csv('https://raw.githubusercontent.com/mwaskom/seaborn-data/master/titanic.csv') \n",
    "\n",
    "# Get the number of rows and columns\n",
    "num_rows, num_cols = titanic_df.shape\n",
    "\n",
    "# Print the results\n",
    "print(\"Number of rows:\", num_rows)\n",
    "print(\"Number of columns:\", num_cols)"
   ]
  },
  {
   "cell_type": "markdown",
   "id": "5dd61c0d-305b-4405-b7e5-380d67f6814a",
   "metadata": {},
   "source": [
    "2.2\n",
    "\n",
    "\n",
    "Observation is the characteristics of one object to be recorded,\n",
    "whereas variable is the characteristic of objects the be recorded.\n",
    "\n",
    "variables are recorded attributes for all the objects, \n",
    "while observations are objects recorded by attributes."
   ]
  },
  {
   "cell_type": "markdown",
   "id": "b7afc33b-1a92-43f0-bb55-b2431a4902cb",
   "metadata": {},
   "source": [
    "3"
   ]
  },
  {
   "cell_type": "code",
   "execution_count": 2,
   "id": "185ff1c0-eab2-44f1-93a8-55903c2fafd7",
   "metadata": {},
   "outputs": [
    {
     "name": "stdout",
     "output_type": "stream",
     "text": [
      "Summary Statistics for Numerical Variables:\n",
      "         survived      pclass         age       sibsp       parch        fare\n",
      "count  891.000000  891.000000  714.000000  891.000000  891.000000  891.000000\n",
      "mean     0.383838    2.308642   29.699118    0.523008    0.381594   32.204208\n",
      "std      0.486592    0.836071   14.526497    1.102743    0.806057   49.693429\n",
      "min      0.000000    1.000000    0.420000    0.000000    0.000000    0.000000\n",
      "25%      0.000000    2.000000   20.125000    0.000000    0.000000    7.910400\n",
      "50%      0.000000    3.000000   28.000000    0.000000    0.000000   14.454200\n",
      "75%      1.000000    3.000000   38.000000    1.000000    0.000000   31.000000\n",
      "max      1.000000    3.000000   80.000000    8.000000    6.000000  512.329200\n"
     ]
    }
   ],
   "source": [
    "# 1. Numerical Summary\n",
    "print(\"Summary Statistics for Numerical Variables:\")\n",
    "print(titanic_df.describe())"
   ]
  },
  {
   "cell_type": "code",
   "execution_count": 7,
   "id": "8f0f69fc-df62-4b7b-aeef-612be68b194c",
   "metadata": {},
   "outputs": [
    {
     "name": "stdout",
     "output_type": "stream",
     "text": [
      "\n",
      "Value Counts for Categorical Variables:\n",
      "sex\n",
      "male      577\n",
      "female    314\n",
      "Name: count, dtype: int64\n",
      "embarked\n",
      "S    644\n",
      "C    168\n",
      "Q     77\n",
      "Name: count, dtype: int64\n",
      "class\n",
      "Third     491\n",
      "First     216\n",
      "Second    184\n",
      "Name: count, dtype: int64\n",
      "who\n",
      "man      537\n",
      "woman    271\n",
      "child     83\n",
      "Name: count, dtype: int64\n",
      "deck\n",
      "C    59\n",
      "B    47\n",
      "D    33\n",
      "E    32\n",
      "A    15\n",
      "F    13\n",
      "G     4\n",
      "Name: count, dtype: int64\n",
      "embark_town\n",
      "Southampton    644\n",
      "Cherbourg      168\n",
      "Queenstown      77\n",
      "Name: count, dtype: int64\n",
      "alive\n",
      "no     549\n",
      "yes    342\n",
      "Name: count, dtype: int64\n"
     ]
    }
   ],
   "source": [
    "# 2. Categorical Summary\n",
    "print(\"\\nValue Counts for Categorical Variables:\")\n",
    "for col in titanic_df.columns:\n",
    "    if titanic_df[col].dtype == 'object': # Check if the column is of type 'object', a common indicator of categorical data [1]\n",
    "        print(titanic_df[col].value_counts())"
   ]
  },
  {
   "cell_type": "markdown",
   "id": "fb43ba67",
   "metadata": {},
   "source": [
    "4\n",
    "\n",
    "\n",
    "df.shape tells how big your dataset is (rows x columns), which is number of rows and columns including observations with missing numerical variables.\n",
    "\n",
    "\n",
    "df.describe() gives a statistical snapshot of the numerical data within those dimensions, which means missing numerical variables are not counted.\n",
    "\n",
    "\n",
    "PS. The chatbot give the definition when I ask the difference between the attribute and method above, before I ask it to do so.\n",
    "\n",
    "\n",
    "6\n",
    "\n",
    "\n",
    "for each word for each attribute,\n",
    "\n",
    "\n",
    "count: The number of non-null(not missing) values\n",
    "\n",
    "\n",
    "mean: average value. x_bar = Σx/n for ungrouped data, x_bar = Σxf/Σf for grouped data\n",
    "\n",
    "\n",
    "std: standard deviation(σ), square root of variance. Var = Σx²/n - x_bar* x_bar for ungrouped data, other formula for Var is omitted.\n",
    "\n",
    "\n",
    "Min, Max: minimum and maximum value respectively\n",
    "\n",
    "\n",
    "25%, 50%, 75%: percentile for each percentage. Sort values from low to high, the number at position of x% of frequency is xth percentile.\n",
    "\n",
    "\n",
    "PS: these are key points in Alevel mathematics, I've struggled in these terms for a long time, this reminds me to that time.\n",
    "\n",
    "\n",
    "7.1\n",
    "\n",
    "\n",
    "For the case when there is a lot of observations, only one observation has missing data, df.dropna() can adjust the parameters to change the threshold to avoid deleting too much useful data but only one row is deleted.\n",
    "\n",
    "\n",
    "7.2\n",
    "For the case there is a variable which is almost missing all the data or not relavent to my analysis, then the variable is almost unable to represent correct fact since number of samplings is too small, the result prabably is biased. The del operation can be used to delete the whole variable since it is not meaningful.\n",
    "\n",
    "\n",
    "7.3\n",
    "If we reverse the order, df.dropna() will first works to delete all the rows with empty values and then del does nothing. Also too much useful data is deleted, this is a waste of data. If we del 10% or more empty variables first, then less row will be deleted so that less useful information is deleted.\n",
    "\n",
    "\n",
    "7.4\n",
    "Firstly, use df.shape to find the size of data set, the use df.count() to count all the non-empty data for each variable. If one of the variable's value is empty, then this column may be deleted using del. AFTER del, df.dropna() can be applied to delete rows containing empty values.\n"
   ]
  },
  {
   "cell_type": "code",
   "execution_count": 47,
   "id": "f473b5ca-ce70-4f28-8cda-23b319ad23b6",
   "metadata": {},
   "outputs": [
    {
     "name": "stdout",
     "output_type": "stream",
     "text": [
      "Number of rows: 891\n",
      "Number of columns: 15\n",
      "Before:\n",
      "         survived      pclass         age       sibsp       parch        fare\n",
      "count  891.000000  891.000000  714.000000  891.000000  891.000000  891.000000\n",
      "mean     0.383838    2.308642   29.699118    0.523008    0.381594   32.204208\n",
      "std      0.486592    0.836071   14.526497    1.102743    0.806057   49.693429\n",
      "min      0.000000    1.000000    0.420000    0.000000    0.000000    0.000000\n",
      "25%      0.000000    2.000000   20.125000    0.000000    0.000000    7.910400\n",
      "50%      0.000000    3.000000   28.000000    0.000000    0.000000   14.454200\n",
      "75%      1.000000    3.000000   38.000000    1.000000    0.000000   31.000000\n",
      "max      1.000000    3.000000   80.000000    8.000000    6.000000  512.329200\n",
      "survived       891\n",
      "pclass         891\n",
      "sex            891\n",
      "age            714\n",
      "sibsp          891\n",
      "parch          891\n",
      "fare           891\n",
      "embarked       889\n",
      "class          891\n",
      "who            891\n",
      "adult_male     891\n",
      "deck           203\n",
      "embark_town    889\n",
      "alive          891\n",
      "alone          891\n",
      "dtype: int64\n",
      "After:\n",
      "         survived      pclass       sibsp       parch        fare\n",
      "count  891.000000  891.000000  891.000000  891.000000  891.000000\n",
      "mean     0.383838    2.308642    0.523008    0.381594   32.204208\n",
      "std      0.486592    0.836071    1.102743    0.806057   49.693429\n",
      "min      0.000000    1.000000    0.000000    0.000000    0.000000\n",
      "25%      0.000000    2.000000    0.000000    0.000000    7.910400\n",
      "50%      0.000000    3.000000    0.000000    0.000000   14.454200\n",
      "75%      1.000000    3.000000    1.000000    0.000000   31.000000\n",
      "max      1.000000    3.000000    8.000000    6.000000  512.329200\n"
     ]
    }
   ],
   "source": [
    "import pandas as pd\n",
    "\n",
    "# Load the Titanic dataset as an example\n",
    "titanic_df = pd.read_csv('https://raw.githubusercontent.com/mwaskom/seaborn-data/master/titanic.csv')\n",
    "\n",
    "# Get the number of rows and columns\n",
    "num_rows, num_cols = titanic_df.shape\n",
    "\n",
    "# Print the results\n",
    "print(\"Number of rows:\", num_rows)\n",
    "print(\"Number of columns:\", num_cols)\n",
    "print(\"Before:\")\n",
    "print(titanic_df.describe())\n",
    "counts_series = titanic_df.count()\n",
    "print(counts_series)\n",
    "for key,val in counts_series.items():\n",
    "    if val != num_rows:\n",
    "        del titanic_df[key]\n",
    "titanic_df.dropna(inplace=True)\n",
    "print(\"After:\")\n",
    "print(titanic_df.describe())"
   ]
  },
  {
   "cell_type": "markdown",
   "id": "96f0dcf2-9233-46f8-8c98-6b056e8b76dd",
   "metadata": {},
   "source": [
    "8.1"
   ]
  },
  {
   "cell_type": "code",
   "execution_count": 52,
   "id": "7fb3df04-23d0-413e-a336-866a97af58ce",
   "metadata": {},
   "outputs": [
    {
     "ename": "NameError",
     "evalue": "name 'survived' is not defined",
     "output_type": "error",
     "traceback": [
      "\u001b[0;31m---------------------------------------------------------------------------\u001b[0m",
      "\u001b[0;31mNameError\u001b[0m                                 Traceback (most recent call last)",
      "Cell \u001b[0;32mIn[52], line 1\u001b[0m\n\u001b[0;32m----> 1\u001b[0m titanic_df\u001b[38;5;241m.\u001b[39mgroupby(\u001b[43msurvived\u001b[49m)[\u001b[38;5;124m\"\u001b[39m\u001b[38;5;124mpclass\u001b[39m\u001b[38;5;124m\"\u001b[39m]\u001b[38;5;241m.\u001b[39mdescribe()\n",
      "\u001b[0;31mNameError\u001b[0m: name 'survived' is not defined"
     ]
    }
   ],
   "source": [
    "titanic_df.groupby('survived')[\"pclass\"].describe()"
   ]
  },
  {
   "cell_type": "markdown",
   "id": "34f023a1-14b6-401b-8650-9dc0a7245792",
   "metadata": {},
   "source": [
    "This tells me pclass distribution between survivors and victim"
   ]
  },
  {
   "cell_type": "markdown",
   "id": "fe1a91ac-0185-4820-bb98-8269621de3fd",
   "metadata": {},
   "source": [
    "8.2\n",
    "\n",
    "\n",
    "it is similar to GROUP by and COUNT() in SQL, the one without groupby counts number of col2(pclass) and col1(survived) seperately, but the other one counts the number of col2(pclass) in every groups of col1(survived), if there is same data of col1"
   ]
  },
  {
   "cell_type": "markdown",
   "id": "cd6a4ead-8fbb-4d0e-9f4a-1ca605a73fa1",
   "metadata": {},
   "source": [
    "8.3\n",
    "\n",
    "\n",
    "A (b) Google, because the response for AI takes time, but the first webpage from google is my wanted answer(thanks for stackoverflow), the comments in stackoverflow is really useful whereas response of AI is somehow redundant.\n",
    "\n",
    "\n",
    "B (a) Chatbot, because the first check reminded is typo check whereas first three webpage from google does not remind typo (However this should be IDE's job, you don't even need to access the Internet)\n",
    "\n",
    "\n",
    "C (b) Google, because the second webpage preview context is the answer. Rest reason is same as A. ChatBot did not gives the correct answer at first but second too.\n",
    "\n",
    "\n",
    "D (a) Chatbot, reasons same as B.(and same suggestion for IDE)\n",
    "\n",
    "\n",
    "E (b) Google, Even before I start looking the webpage, google automatically identify the typo and show that \"Showing results for AttributeError: 'SeriesGroupBy' object has no attribute 'describe'\"(IDE!)\n",
    "\n",
    "\n",
    "F (a) Chatbot, reason same as B\n",
    "\n",
    "\n",
    "G (a) Chatbot, Although the first webpage from google reminds parenthesis but it did not give a clear way to solve it, but chatbot tells me the clear way to solve this error. Also, both Chatbot and google did not realize NameError is because of absence of '.\n"
   ]
  },
  {
   "cell_type": "markdown",
   "id": "c451c3b1-07d4-4366-b515-7b1793436bf8",
   "metadata": {},
   "source": [
    "9\n",
    "Somewhat. Actually I do not think chatbot is really helpful for this course unless we can use chatbot in exam. For those who use Python machine learning libs for years in high school clubs, chatbot is unnesseary. For those who just get used to Python, use of chatbot may result lack of own understanding of coding but more on fixed template of code because they don't even know how to print hello world. I think read the materials by oneself is important, use of chatbot should be optional and used freely by student instead of excess guidelines(some simple tutorial is nice).\n",
    "\n",
    "\n",
    "Chatbot session link\n",
    "\n",
    "\n",
    "https://notebooklm.google.com/notebook/42e792e5-712a-47c1-8f94-4d75e99f9915?_gl=1*5g5vrq*_up*MQ..*_ga*MTUwMDk5NzQ1Mi4xNzI1NzUxMDIw*_ga_W0LDH41ZCB*MTcyNTc1MTAyMC4xLjAuMTcyNTc1MTAyMC4wLjAuMA..&original_referer=https:%2F%2Fnotebooklm.google%23&original_referer=https:%2F%2Fmyaccount.google.com%23&hl=en&pli=1"
   ]
  }
 ],
 "metadata": {
  "kernelspec": {
   "display_name": "Python 3 (ipykernel)",
   "language": "python",
   "name": "python3"
  },
  "language_info": {
   "codemirror_mode": {
    "name": "ipython",
    "version": 3
   },
   "file_extension": ".py",
   "mimetype": "text/x-python",
   "name": "python",
   "nbconvert_exporter": "python",
   "pygments_lexer": "ipython3",
   "version": "3.11.6"
  }
 },
 "nbformat": 4,
 "nbformat_minor": 5
}
